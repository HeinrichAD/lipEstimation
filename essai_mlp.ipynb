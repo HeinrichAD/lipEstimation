{
 "cells": [
  {
   "cell_type": "markdown",
   "id": "0406d2a2",
   "metadata": {},
   "source": [
    "# Advanced topics in Deep Learning\n",
    "## Lipschitz regularity of deep neural networks: analysis and efficient estimation\n",
    "\n",
    "*Jean-Baptiste BAITAIRIAN and Thomas LE ROUX*"
   ]
  },
  {
   "cell_type": "code",
   "execution_count": 202,
   "id": "6af69f3a",
   "metadata": {},
   "outputs": [],
   "source": [
    "# Importation of all packages\n",
    "import torch\n",
    "import torch.nn as nn\n",
    "import torch.nn.functional as F\n",
    "\n",
    "from torch.nn.utils import spectral_norm\n",
    "from torch.utils.data import DataLoader\n",
    "from torchvision import datasets, transforms\n",
    "from scipy.linalg.interpolative import estimate_spectral_norm\n",
    "from scipy.sparse.linalg import LinearOperator\n",
    "from scipy.linalg import sqrtm\n",
    "\n",
    "from itertools import product\n",
    "from tqdm import tqdm\n",
    "\n",
    "import numpy as np\n",
    "import pandas as pd\n",
    "import matplotlib.pyplot as plt\n",
    "import time"
   ]
  },
  {
   "cell_type": "markdown",
   "id": "543327fe",
   "metadata": {},
   "source": [
    "### Database creation (MNIST)"
   ]
  },
  {
   "cell_type": "code",
   "execution_count": 203,
   "id": "45855eba",
   "metadata": {},
   "outputs": [
    {
     "data": {
      "text/plain": [
       "Dataset MNIST\n",
       "    Number of datapoints: 60000\n",
       "    Root location: models/data\n",
       "    Split: Train\n",
       "    StandardTransform\n",
       "Transform: ToTensor()"
      ]
     },
     "execution_count": 203,
     "metadata": {},
     "output_type": "execute_result"
    }
   ],
   "source": [
    "# We import the train set. Set 'dowload' to True if we do not already have the dataset\n",
    "Transform = transforms.ToTensor()\n",
    "train = datasets.MNIST(root='models/data', train=True, download=False, transform=Transform)\n",
    "train"
   ]
  },
  {
   "cell_type": "code",
   "execution_count": 204,
   "id": "fdab3aae",
   "metadata": {},
   "outputs": [
    {
     "data": {
      "text/plain": [
       "Dataset MNIST\n",
       "    Number of datapoints: 10000\n",
       "    Root location: models/data\n",
       "    Split: Test\n",
       "    StandardTransform\n",
       "Transform: ToTensor()"
      ]
     },
     "execution_count": 204,
     "metadata": {},
     "output_type": "execute_result"
    }
   ],
   "source": [
    "# We import the test set. Set 'dowload' to True if we do not already have the dataset\n",
    "test = datasets.MNIST(root='models/data', train=False, download=False, transform=Transform)\n",
    "test"
   ]
  },
  {
   "cell_type": "code",
   "execution_count": 205,
   "id": "6595201d",
   "metadata": {},
   "outputs": [
    {
     "name": "stdout",
     "output_type": "stream",
     "text": [
      "Shape: torch.Size([1, 28, 28]) \n",
      "Label: 5\n"
     ]
    }
   ],
   "source": [
    "# We print the shape of the first training data and its label\n",
    "image, label = train[0]\n",
    "print('Shape:', image.shape, '\\nLabel:', label)"
   ]
  },
  {
   "cell_type": "code",
   "execution_count": 206,
   "id": "5f99014c",
   "metadata": {},
   "outputs": [
    {
     "data": {
      "text/plain": [
       "<matplotlib.image.AxesImage at 0x2350110f6d0>"
      ]
     },
     "execution_count": 206,
     "metadata": {},
     "output_type": "execute_result"
    },
    {
     "data": {
      "image/png": "[encoded data removed]",
      "text/plain": [
       "<Figure size 432x288 with 1 Axes>"
      ]
     },
     "metadata": {
      "needs_background": "light"
     },
     "output_type": "display_data"
    }
   ],
   "source": [
    "# We plot the first training data\n",
    "plt.imshow(image.reshape((28, 28)), cmap='gray')"
   ]
  },
  {
   "cell_type": "code",
   "execution_count": 207,
   "id": "7febcc46",
   "metadata": {},
   "outputs": [],
   "source": [
    "# We create DataLoaders for our train and test sets\n",
    "train_loader = DataLoader(train, batch_size=100, shuffle=True)\n",
    "test_loader = DataLoader(test, batch_size=500, shuffle=False)"
   ]
  },
  {
   "cell_type": "code",
   "execution_count": 208,
   "id": "5051a2f7",
   "metadata": {},
   "outputs": [],
   "source": [
    "# MLP neural network with 1-Lipschitz activation functions\n",
    "class MultilayerPerceptron(nn.Module):\n",
    "    def __init__(self, input_size=784, output_size=10, layers=[120, 84]):\n",
    "        super().__init__()\n",
    "        self.d1 = nn.Linear(input_size, layers[0])\n",
    "        self.d2 = nn.Linear(layers[0], layers[1])\n",
    "        self.d3 = nn.Linear(layers[1], output_size)\n",
    "        \n",
    "    def forward(self, X):\n",
    "        X = F.relu(self.d1(X))\n",
    "        X = F.relu(self.d2(X))\n",
    "        X = self.d3(X)\n",
    "        return F.log_softmax(X, dim=1)"
   ]
  },
  {
   "cell_type": "code",
   "execution_count": 209,
   "id": "b8c56d95",
   "metadata": {},
   "outputs": [
    {
     "name": "stdout",
     "output_type": "stream",
     "text": [
      "MultilayerPerceptron(\n",
      "  (d1): Linear(in_features=784, out_features=20, bias=True)\n",
      "  (d2): Linear(in_features=20, out_features=20, bias=True)\n",
      "  (d3): Linear(in_features=20, out_features=10, bias=True)\n",
      ")\n"
     ]
    }
   ],
   "source": [
    "# We create our model: an MLP with (20, 20, 10) neurons\n",
    "model = MultilayerPerceptron(layers=[20, 20])\n",
    "print(model)"
   ]
  },
  {
   "cell_type": "code",
   "execution_count": 210,
   "id": "bebf03e5",
   "metadata": {},
   "outputs": [],
   "source": [
    "# We define the criterion and the optimizer to use\n",
    "criterion = nn.CrossEntropyLoss()\n",
    "optimizer = torch.optim.Adam(model.parameters(), lr=0.001)"
   ]
  },
  {
   "cell_type": "code",
   "execution_count": 211,
   "id": "cdfd6f10",
   "metadata": {},
   "outputs": [
    {
     "name": "stdout",
     "output_type": "stream",
     "text": [
      "Epoch:  0 | Batch:  600 [ 60000/60000] | Train loss: 0.35896870 | Train accuracy: 81.185%\n",
      "Epoch:  1 | Batch:  600 [ 60000/60000] | Train loss: 0.24230598 | Train accuracy: 91.783%\n",
      "Epoch:  2 | Batch:  600 [ 60000/60000] | Train loss: 0.26749170 | Train accuracy: 93.123%\n",
      "Epoch:  3 | Batch:  600 [ 60000/60000] | Train loss: 0.18392670 | Train accuracy: 93.865%\n",
      "Epoch:  4 | Batch:  600 [ 60000/60000] | Train loss: 0.09135988 | Train accuracy: 94.503%\n",
      "Epoch:  5 | Batch:  600 [ 60000/60000] | Train loss: 0.17449930 | Train accuracy: 94.915%\n",
      "Epoch:  6 | Batch:  600 [ 60000/60000] | Train loss: 0.14695837 | Train accuracy: 95.152%\n",
      "Epoch:  7 | Batch:  600 [ 60000/60000] | Train loss: 0.12848429 | Train accuracy: 95.508%\n",
      "Epoch:  8 | Batch:  600 [ 60000/60000] | Train loss: 0.17629278 | Train accuracy: 95.672%\n",
      "Epoch:  9 | Batch:  600 [ 60000/60000] | Train loss: 0.12359953 | Train accuracy: 95.865%\n"
     ]
    }
   ],
   "source": [
    "# We train our MLP\n",
    "epochs = 10\n",
    "train_losses = []\n",
    "test_losses = []\n",
    "train_correct = []\n",
    "test_correct = []\n",
    "\n",
    "for i in range(epochs):\n",
    "    trn_corr = 0\n",
    "    tst_corr = 0\n",
    "    \n",
    "    for b, (X_train, y_train) in enumerate(train_loader):\n",
    "        b += 1\n",
    "        \n",
    "        y_pred = model(X_train.view(100, -1))\n",
    "        loss = criterion(y_pred, y_train)\n",
    "        \n",
    "        predicted = torch.max(y_pred.data, 1)[1]\n",
    "        batch_corr = (predicted == y_train).sum()\n",
    "        trn_corr += batch_corr\n",
    "        \n",
    "        optimizer.zero_grad()\n",
    "        loss.backward()\n",
    "        optimizer.step()\n",
    "        \n",
    "        if b%600 == 0:\n",
    "            print(f'Epoch: {i:2} | Batch: {b:4} [{100*b:6}/60000] | Train loss: {loss.item():10.8f} | Train accuracy: {trn_corr.item()*100/60000:.3f}%')\n",
    "    \n",
    "    train_losses.append(loss)\n",
    "    train_correct.append(trn_corr)\n",
    "    \n",
    "    with torch.no_grad():\n",
    "        for b, (X_test, y_test) in enumerate(test_loader):\n",
    "            y_val = model(X_test.view(500, -1))\n",
    "            \n",
    "            predicted = torch.max(y_val.data, 1)[1]\n",
    "            tst_corr += (predicted == y_test).sum()\n",
    "    \n",
    "    loss = criterion(y_val, y_test)\n",
    "    test_losses.append(loss)\n",
    "    test_correct.append(tst_corr)"
   ]
  },
  {
   "cell_type": "code",
   "execution_count": 212,
   "id": "32442646",
   "metadata": {},
   "outputs": [
    {
     "name": "stdout",
     "output_type": "stream",
     "text": [
      "Test accuracy: 95.210%\n"
     ]
    }
   ],
   "source": [
    "print(f'Test accuracy: {test_correct[-1].item()*100/10000:.3f}%')"
   ]
  },
  {
   "cell_type": "markdown",
   "id": "f90a8619",
   "metadata": {},
   "source": [
    "### Frobenius upper bound"
   ]
  },
  {
   "cell_type": "code",
   "execution_count": 213,
   "id": "2ba86a11",
   "metadata": {},
   "outputs": [
    {
     "name": "stdout",
     "output_type": "stream",
     "text": [
      "Frobenius norm of first layer = 20.96812629699707\n",
      "Frobenius norm of second layer = 5.654060363769531\n",
      "Frobenius norm of third layer = 4.862380027770996\n"
     ]
    }
   ],
   "source": [
    "# We compute the norm of each layer\n",
    "nrm_fro1 = torch.linalg.norm(model.d1.weight, ord='fro')\n",
    "nrm_fro2 = torch.linalg.norm(model.d2.weight, ord='fro')\n",
    "nrm_fro3 = torch.linalg.norm(model.d3.weight, ord='fro')\n",
    "\n",
    "print('Frobenius norm of first layer =', nrm_fro1.item())\n",
    "print('Frobenius norm of second layer =', nrm_fro2.item())\n",
    "print('Frobenius norm of third layer =', nrm_fro3.item())"
   ]
  },
  {
   "cell_type": "code",
   "execution_count": 214,
   "id": "4cd48939",
   "metadata": {},
   "outputs": [
    {
     "name": "stdout",
     "output_type": "stream",
     "text": [
      "Frobenius upper bound = 576.459716796875\n"
     ]
    }
   ],
   "source": [
    "# We compute the Frobenius upper bound\n",
    "L_hat_Fro = nrm_fro1 * nrm_fro2 * nrm_fro3\n",
    "print('Frobenius upper bound =', L_hat_Fro.item())"
   ]
  },
  {
   "cell_type": "markdown",
   "id": "256c63ff",
   "metadata": {},
   "source": [
    "### AutoLip upper bound"
   ]
  },
  {
   "cell_type": "code",
   "execution_count": 215,
   "id": "2a97a5c9",
   "metadata": {},
   "outputs": [
    {
     "name": "stdout",
     "output_type": "stream",
     "text": [
      "Spectral norm of first layer = 8.60245132446289\n",
      "Spectral norm of second layer = 2.390007734298706\n",
      "Spectral norm of third layer = 2.7217843532562256\n"
     ]
    }
   ],
   "source": [
    "# We compute the norm of each layer\n",
    "nrm1 = torch.linalg.norm(model.d1.weight, ord=2)\n",
    "nrm2 = torch.linalg.norm(model.d2.weight, ord=2)\n",
    "nrm3 = torch.linalg.norm(model.d3.weight, ord=2)\n",
    "\n",
    "print('Spectral norm of first layer =', nrm1.item())\n",
    "print('Spectral norm of second layer =', nrm2.item())\n",
    "print('Spectral norm of third layer =', nrm3.item())"
   ]
  },
  {
   "cell_type": "code",
   "execution_count": 216,
   "id": "5c7c490b",
   "metadata": {},
   "outputs": [
    {
     "name": "stdout",
     "output_type": "stream",
     "text": [
      "AutoLip upper bound = 55.95968246459961\n"
     ]
    }
   ],
   "source": [
    "# We compute the AutoLip upper bound\n",
    "L_hat_AL = nrm1 * nrm2 * nrm3\n",
    "print('AutoLip upper bound =', L_hat_AL.item())"
   ]
  },
  {
   "cell_type": "markdown",
   "id": "48b78138",
   "metadata": {},
   "source": [
    "### SeqLip upper bound"
   ]
  },
  {
   "cell_type": "markdown",
   "id": "d1a7f86c",
   "metadata": {},
   "source": [
    "We can use a brute force combinatorial approach to compute the SeqLip upper bound given by formula (8) of the paper because we have small layers."
   ]
  },
  {
   "cell_type": "code",
   "execution_count": 217,
   "id": "32f64ec6",
   "metadata": {},
   "outputs": [],
   "source": [
    "# We compute the SVD of our matrices\n",
    "U1, S1, Vh1 = torch.linalg.svd(model.d1.weight, full_matrices=False)  # Be careful, Vh1 is the transpose conjugate of V1\n",
    "U2, S2, Vh2 = torch.linalg.svd(model.d2.weight, full_matrices=False)\n",
    "U3, S3, Vh3 = torch.linalg.svd(model.d3.weight, full_matrices=False)\n",
    "\n",
    "# We transform S1, S2 and S3 into diagonal matrices\n",
    "Sigma1 = torch.diag(S1)\n",
    "Sigma2 = torch.diag(S2)\n",
    "Sigma3 = torch.diag(S3)\n",
    "\n",
    "# We compute the square root of Sigma2\n",
    "Sigma2_sqrt = torch.Tensor(sqrtm(Sigma2.detach().numpy()))"
   ]
  },
  {
   "cell_type": "code",
   "execution_count": 218,
   "id": "1387f72d",
   "metadata": {},
   "outputs": [
    {
     "name": "stdout",
     "output_type": "stream",
     "text": [
      "U1: torch.Size([20, 20])\n",
      "U2: torch.Size([20, 20])\n",
      "U3: torch.Size([10, 10])\n",
      "Sigma1: torch.Size([20, 20])\n",
      "Sigma2: torch.Size([20, 20])\n",
      "Sigma3: torch.Size([10, 10])\n",
      "Vh1: torch.Size([20, 784])\n",
      "Vh2: torch.Size([20, 20])\n",
      "Vh3: torch.Size([10, 20])\n"
     ]
    }
   ],
   "source": [
    "# We print the shapes of our matrices\n",
    "print('U1:', U1.shape)\n",
    "print('U2:', U2.shape)\n",
    "print('U3:', U3.shape)\n",
    "print('Sigma1:', Sigma1.shape)\n",
    "print('Sigma2:', Sigma2.shape)\n",
    "print('Sigma3:', Sigma3.shape)\n",
    "print('Vh1:', Vh1.shape)\n",
    "print('Vh2:', Vh2.shape)\n",
    "print('Vh3:', Vh3.shape)"
   ]
  },
  {
   "cell_type": "markdown",
   "id": "720258da",
   "metadata": {},
   "source": [
    "We will use the $\\verb+product()+$ function from $\\verb+itertools+$ in order to get all the possible lists of a certain length containing only 0 and 1."
   ]
  },
  {
   "cell_type": "code",
   "execution_count": 219,
   "id": "ce3f9b92",
   "metadata": {},
   "outputs": [
    {
     "data": {
      "text/plain": [
       "[(0, 0, 0),\n",
       " (0, 0, 1),\n",
       " (0, 1, 0),\n",
       " (0, 1, 1),\n",
       " (1, 0, 0),\n",
       " (1, 0, 1),\n",
       " (1, 1, 0),\n",
       " (1, 1, 1)]"
      ]
     },
     "execution_count": 219,
     "metadata": {},
     "output_type": "execute_result"
    }
   ],
   "source": [
    "# Example of use of product()\n",
    "# Allows to have all combinations of 0s and 1s in a vector of length n_i\n",
    "n_i = 3\n",
    "# This list contains tuples that we can convert to a list thanks to list() or to a Tensor thanks to torch.Tensor()\n",
    "list(product(range(2), repeat=n_i))"
   ]
  },
  {
   "cell_type": "code",
   "execution_count": 220,
   "id": "b990b3e2",
   "metadata": {},
   "outputs": [
    {
     "name": "stderr",
     "output_type": "stream",
     "text": [
      "100%|██████████████████████████████████████████████████████████████████████| 1048576/1048576 [02:16<00:00, 7697.72it/s]\n"
     ]
    }
   ],
   "source": [
    "# We maximize the first factor by a brute force combinatorial approach\n",
    "n1 = U1.shape[0]  # 20, so we have 2^20 = 1 048 576 combinations to test\n",
    "norm1_best = 0  # Will contain the maximum norm\n",
    "\n",
    "for sigma2_tuple in tqdm(list(product(range(2), repeat=n1))):\n",
    "    diag_sig2 = torch.diag(torch.Tensor(sigma2_tuple))  # We compute the diagonal matrix\n",
    "    mat_prod_1 = Sigma2_sqrt @ Vh2 @ diag_sig2 @ U1 @ Sigma1\n",
    "    norm1 = torch.linalg.norm(mat_prod_1, ord=2)\n",
    "    \n",
    "    if norm1 > norm1_best:\n",
    "        norm1_best = norm1"
   ]
  },
  {
   "cell_type": "code",
   "execution_count": 221,
   "id": "45b2301a",
   "metadata": {},
   "outputs": [
    {
     "name": "stdout",
     "output_type": "stream",
     "text": [
      "Max norm1 = 10.942055702209473\n"
     ]
    }
   ],
   "source": [
    "# We print the best (biggest) norm for the first factor\n",
    "print('Max norm1 =', norm1_best.item())"
   ]
  },
  {
   "cell_type": "code",
   "execution_count": 222,
   "id": "0f208fd4",
   "metadata": {},
   "outputs": [
    {
     "name": "stderr",
     "output_type": "stream",
     "text": [
      "100%|██████████████████████████████████████████████████████████████████████| 1048576/1048576 [01:53<00:00, 9274.85it/s]\n"
     ]
    }
   ],
   "source": [
    "# We maximize the second factor by a brute force combinatorial approach\n",
    "n2 = U2.shape[0]  # 20, so we have 2^20 = 1 048 576 combinations to test\n",
    "norm2_best = 0  # Will contain the maximum norm\n",
    "\n",
    "for sigma3_tuple in tqdm(list(product(range(2), repeat=n2))):\n",
    "    diag_sig3 = torch.diag(torch.Tensor(sigma3_tuple))  # We compute the diagonal matrix\n",
    "    mat_prod_2 = Sigma3 @ Vh3 @ diag_sig3 @ U2 @ Sigma2_sqrt\n",
    "    norm2 = torch.linalg.norm(mat_prod_2, ord=2)\n",
    "    \n",
    "    if norm2 > norm2_best:\n",
    "        norm2_best = norm2"
   ]
  },
  {
   "cell_type": "code",
   "execution_count": 223,
   "id": "acede6e9",
   "metadata": {},
   "outputs": [
    {
     "name": "stdout",
     "output_type": "stream",
     "text": [
      "Max norm2 = 3.1964221000671387\n"
     ]
    }
   ],
   "source": [
    "# We print the best (biggest) norm for the second factor\n",
    "print('Max norm2 =', norm2_best.item())"
   ]
  },
  {
   "cell_type": "code",
   "execution_count": 224,
   "id": "ecf20c84",
   "metadata": {},
   "outputs": [
    {
     "name": "stdout",
     "output_type": "stream",
     "text": [
      "SeqLip upper bound = 34.97542953491211\n"
     ]
    }
   ],
   "source": [
    "# We compute the SeqLip upper bound\n",
    "L_hat_SL = norm1_best * norm2_best\n",
    "print('SeqLip upper bound =', L_hat_SL.item())"
   ]
  },
  {
   "cell_type": "markdown",
   "id": "db5df2a9",
   "metadata": {},
   "source": [
    "### Comparison of Frobenius, AutoLip and SeqLip upper bounds"
   ]
  },
  {
   "cell_type": "markdown",
   "id": "62ff7a37",
   "metadata": {},
   "source": [
    "The Frobenius upper bound clearly overestimates the Lispchitz constant of the MLP. On the contrary, SeqLip and AutoLip upper bounds are closer to the real Lipschitz constant and, in particular, SeqLip upper bound is lower than AutoLip upper bound for an MLP with ReLU activation functions. Therefore, SeqLip seems to improve the upper bound on the Lipschitz constant compared to AutoLip, as said in the article."
   ]
  },
  {
   "cell_type": "markdown",
   "id": "11921060",
   "metadata": {},
   "source": [
    "Formula (10) of the paper allows to compare $\\hat L_{AL}$ and $\\hat L_{SL}$ (under certain assumptions that we will consider true to see if the order of magnitude is approximately respected):\n",
    "$$\n",
    "\\hat L_{SL} \\approx \\frac{\\hat L_{AL}}{\\pi^{K-1}} \\Leftrightarrow \\frac{\\hat L_{AL}}{\\hat L_{SL}} \\approx \\pi^{K-1}\n",
    "$$"
   ]
  },
  {
   "cell_type": "code",
   "execution_count": 225,
   "id": "d3c33aed",
   "metadata": {},
   "outputs": [
    {
     "name": "stdout",
     "output_type": "stream",
     "text": [
      "L_AL/L_SL = 1.5999712944030762\n",
      "pi^{K-1} = 9.869604401089358\n"
     ]
    }
   ],
   "source": [
    "# In our case, K = 3 (number of simple operations, i.e. linear layers)\n",
    "K = 3\n",
    "\n",
    "L_hat_ratio = L_hat_AL / L_hat_SL\n",
    "second_term = np.pi ** (K-1)\n",
    "\n",
    "print('L_AL/L_SL =', L_hat_ratio.item())\n",
    "print('pi^{K-1} =', second_term)"
   ]
  },
  {
   "cell_type": "markdown",
   "id": "21d5eb71",
   "metadata": {},
   "source": [
    "Of course, the two terms are not exactly the same because all the assumptions that led to (10) are not verified, but it still gives an idea of the ratio between $\\hat L_{AL}$ and $\\hat L_{SL}$."
   ]
  },
  {
   "cell_type": "markdown",
   "id": "72d925d6",
   "metadata": {},
   "source": [
    "### AutoGrad compliant power method"
   ]
  },
  {
   "cell_type": "markdown",
   "id": "a9cc754e",
   "metadata": {},
   "source": [
    "In this section, we implement and test a simpler version of the AutoGrad compliant power method (given by algorithm 2 in the article) on a linear function $f$. To define our function, we simply use the weights obtained by the first linear layer of our MLP and we call them M1."
   ]
  },
  {
   "cell_type": "code",
   "execution_count": 226,
   "id": "1a541276",
   "metadata": {},
   "outputs": [
    {
     "name": "stdout",
     "output_type": "stream",
     "text": [
      "M1: torch.Size([20, 784])\n"
     ]
    }
   ],
   "source": [
    "M1 = model.d1.weight\n",
    "print('M1:', M1.shape)"
   ]
  },
  {
   "cell_type": "code",
   "execution_count": 227,
   "id": "040192db",
   "metadata": {},
   "outputs": [],
   "source": [
    "# We define our affine function f\n",
    "# x must be of length 784\n",
    "def f(x):\n",
    "    return M1 @ x"
   ]
  },
  {
   "cell_type": "code",
   "execution_count": 228,
   "id": "1fa727c7",
   "metadata": {},
   "outputs": [],
   "source": [
    "# A simpler version of AutoGrad compliant power method (without automatic differentiation) applied to an afine function\n",
    "def AG_power_method(f, M, v_init, N=10):\n",
    "    v = v_init\n",
    "    L_evol = []\n",
    "    \n",
    "    for k in range(N):\n",
    "        v = M.T @ M @ v\n",
    "        lmda = torch.linalg.norm(v)\n",
    "        v = v / lmda\n",
    "        \n",
    "        # We store the different values of L(f) that are estimated\n",
    "        L = torch.linalg.norm(f(v) - f(torch.zeros(v.shape[0]))).detach().numpy()  # In our case, f(0)=0, but we keep it\n",
    "        L_evol.append(L)\n",
    "    return L, L_evol"
   ]
  },
  {
   "cell_type": "code",
   "execution_count": 229,
   "id": "1b0c623c",
   "metadata": {},
   "outputs": [
    {
     "name": "stdout",
     "output_type": "stream",
     "text": [
      "L1 = 8.602457\n",
      "L2 = 8.602457\n",
      "L3 = 8.602457\n"
     ]
    }
   ],
   "source": [
    "# We run 3 different simulations to evaluate the effect of the initialization\n",
    "N_iter = 100  # Number of iterations\n",
    "\n",
    "# Three different initializations\n",
    "v_init1 = torch.randint(-10, 10, (M1.shape[1],), dtype=torch.float)\n",
    "v_init2 = torch.randint(-10, 10, (M1.shape[1],), dtype=torch.float)\n",
    "v_init3 = torch.randint(-10, 10, (M1.shape[1],), dtype=torch.float)\n",
    "\n",
    "# We run 3 different simulations\n",
    "L1, L_evol1 = AG_power_method(f, M1, v_init1, N=N_iter)\n",
    "L2, L_evol2 = AG_power_method(f, M1, v_init2, N=N_iter)\n",
    "L3, L_evol3 = AG_power_method(f, M1, v_init3, N=N_iter)\n",
    "\n",
    "# We print the 3 Lipschitz constant estimations\n",
    "print('L1 =', L1)\n",
    "print('L2 =', L2)\n",
    "print('L3 =', L3)"
   ]
  },
  {
   "cell_type": "markdown",
   "id": "d0062618",
   "metadata": {},
   "source": [
    "We can note that our result are really close to the spectral norm of the first layer of our MLP. This is not surprising because the Lipschitz constant of an affine function $f : x \\mapsto Mx + b $, with $M \\in \\mathbb{R}^{m \\times n}$ and $b \\in \\mathbb{R}^m$, is the largest singular value of $M$."
   ]
  },
  {
   "cell_type": "code",
   "execution_count": 230,
   "id": "1b3a5742",
   "metadata": {},
   "outputs": [
    {
     "data": {
      "image/png": "[encoded data removed]",
      "text/plain": [
       "<Figure size 432x288 with 1 Axes>"
      ]
     },
     "metadata": {
      "needs_background": "light"
     },
     "output_type": "display_data"
    }
   ],
   "source": [
    "# We plot the evolution of the estimated Lipschitz constant with 3 different initializations\n",
    "plt.plot(L_evol1, label='Initialization 1')\n",
    "plt.plot(L_evol2, label='Initialization 2')\n",
    "plt.plot(L_evol3, label='Initialization 3')\n",
    "plt.ylabel('Estimation of the Lipschitz constant')\n",
    "plt.xlabel('Number of iterations')\n",
    "plt.title('Evolution of the estimated Lipschitz constant with 3 different initializations')\n",
    "plt.grid()\n",
    "plt.legend()\n",
    "plt.show()"
   ]
  },
  {
   "cell_type": "markdown",
   "id": "694391d3",
   "metadata": {},
   "source": [
    "As we can see, the initialization of the power method has an effect on the estimation, but the more the number of iterations is large, the more the estimations with different initializations become similar."
   ]
  }
 ],
 "metadata": {
  "kernelspec": {
   "display_name": "Python 3",
   "language": "python",
   "name": "python3"
  },
  "language_info": {
   "codemirror_mode": {
    "name": "ipython",
    "version": 3
   },
   "file_extension": ".py",
   "mimetype": "text/x-python",
   "name": "python",
   "nbconvert_exporter": "python",
   "pygments_lexer": "ipython3",
   "version": "3.9.5"
  }
 },
 "nbformat": 4,
 "nbformat_minor": 5
}
